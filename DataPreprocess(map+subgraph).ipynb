{
 "cells": [
  {
   "cell_type": "code",
   "execution_count": 39,
   "metadata": {},
   "outputs": [],
   "source": [
    "import json\n",
    "import os\n",
    "import sys\n",
    "\n",
    "dataset = 'medqa'"
   ]
  },
  {
   "cell_type": "code",
   "execution_count": null,
   "metadata": {},
   "outputs": [],
   "source": [
    "from preprocess.data_map import map_concept_ner\n",
    "\n",
    "files_path = os.path.join(os.getcwd(), 'data', dataset, 'raw')\n",
    "\n",
    "for fname in ['dev', 'test', 'train']:\n",
    "    file_path = os.path.join(files_path, fname + '.jsonl')\n",
    "    # print(file_path)\n",
    "    map_concept_ner('spacy', file_path, dataset, test_metamap=False)"
   ]
  },
  {
   "cell_type": "code",
   "execution_count": 40,
   "metadata": {},
   "outputs": [
    {
     "name": "stderr",
     "output_type": "stream",
     "text": [
      "100%|██████████| 1272/1272 [21:54<00:00,  1.03s/it]\n"
     ]
    },
    {
     "name": "stdout",
     "output_type": "stream",
     "text": [
      "grounded concepts saved to /Users/soulofshadow/Downloads/UMLS/data/medqa/subgraphed/dev.jsonl\n",
      "\n"
     ]
    },
    {
     "name": "stderr",
     "output_type": "stream",
     "text": [
      "100%|██████████| 1273/1273 [24:55<00:00,  1.17s/it]\n"
     ]
    },
    {
     "name": "stdout",
     "output_type": "stream",
     "text": [
      "grounded concepts saved to /Users/soulofshadow/Downloads/UMLS/data/medqa/subgraphed/test.jsonl\n",
      "\n"
     ]
    },
    {
     "name": "stderr",
     "output_type": "stream",
     "text": [
      "100%|██████████| 10178/10178 [3:17:42<00:00,  1.17s/it] \n"
     ]
    },
    {
     "name": "stdout",
     "output_type": "stream",
     "text": [
      "grounded concepts saved to /Users/soulofshadow/Downloads/UMLS/data/medqa/subgraphed/train.jsonl\n",
      "\n"
     ]
    }
   ],
   "source": [
    "from preprocess.data_subgraph import build_subgraph\n",
    "\n",
    "files_path = os.path.join(os.getcwd(), 'data', dataset, 'mapped')\n",
    "\n",
    "for fname in ['dev', 'test', 'train']:\n",
    "    file_path = os.path.join(files_path, fname + '.jsonl')\n",
    "    # print(file_path)\n",
    "    build_subgraph(file_path, dataset, test_subgraph=False)"
   ]
  },
  {
   "cell_type": "code",
   "execution_count": null,
   "metadata": {},
   "outputs": [],
   "source": []
  },
  {
   "cell_type": "markdown",
   "metadata": {},
   "source": [
    "#### Test"
   ]
  },
  {
   "cell_type": "code",
   "execution_count": 11,
   "metadata": {},
   "outputs": [],
   "source": [
    "from preprocess.data_subgraph import load_resources, load_cpnet\n",
    "import pickle\n",
    "import networkx as nx\n",
    "\n",
    "#load concepts\n",
    "concepts_file = \"./data/umls/concepts.txt\"\n",
    "id2concept = [w.strip() for w in open(concepts_file)]\n",
    "concept2id = {w: i for i, w in enumerate(id2concept)}\n",
    "\n",
    "#load concept to name\n",
    "concept2name_file = \"./data/umls/concept_names.txt\"\n",
    "concept2name = {}\n",
    "for line in open(concept2name_file):\n",
    "    c, n = line.strip().split('\\t')\n",
    "    concept2name[c] = n\n",
    "\n",
    "#load relation\n",
    "relation_file = \"./data/umls/relations.txt\"\n",
    "id2relation = [r.strip() for r in open(relation_file)]\n",
    "relation2id = {r: i for i, r in enumerate(id2relation)}"
   ]
  },
  {
   "cell_type": "code",
   "execution_count": 12,
   "metadata": {},
   "outputs": [],
   "source": [
    "NET = nx.MultiGraph()\n",
    "graph_file = './data/umls/umls.graph'\n",
    "with open(graph_file, 'rb') as f:\n",
    "    NET = pickle.load(f)"
   ]
  },
  {
   "cell_type": "code",
   "execution_count": 13,
   "metadata": {},
   "outputs": [],
   "source": [
    "data = []\n",
    "import json\n",
    "\n",
    "with open('./data/medqa/mapped/dev.jsonl', 'r', encoding='utf-8') as file:\n",
    "    for line in file:\n",
    "        json_obj = json.loads(line)\n",
    "        data.append(json_obj)"
   ]
  },
  {
   "cell_type": "code",
   "execution_count": 14,
   "metadata": {},
   "outputs": [],
   "source": [
    "concept = [d['concept'] for d in data]\n",
    "option_graph = [None] * len(concept)\n",
    "option0 = [d['option0'] for d in data]\n",
    "option1 = [d['option1'] for d in data]\n",
    "option2 = [d['option2'] for d in data]\n",
    "option3 = [d['option3'] for d in data]\n",
    "options = [list(pair) for pair in zip(option_graph, option0, option1, option2, option3)]"
   ]
  },
  {
   "cell_type": "code",
   "execution_count": 15,
   "metadata": {},
   "outputs": [
    {
     "data": {
      "text/plain": [
       "['C3854019', 'C0008809', 'C0007561', 'C0041041']"
      ]
     },
     "execution_count": 15,
     "metadata": {},
     "output_type": "execute_result"
    }
   ],
   "source": [
    "from itertools import chain\n",
    "\n",
    "flat_list = [item for sublist in options[0] if sublist is not None for item in sublist]\n",
    "flat_list"
   ]
  },
  {
   "cell_type": "code",
   "execution_count": 25,
   "metadata": {},
   "outputs": [],
   "source": [
    "qc_id = [concept2id[c] for c in concept[0] if c in id2concept]\n",
    "if flat_list is not None:\n",
    "    ac_id = [concept2id[c] for c in flat_list if c in id2concept]\n",
    "else:\n",
    "    ac_id = []\n",
    "\n",
    "qc_neigbor = {}\n",
    "for n in qc_id:\n",
    "    if n in NET.nodes():\n",
    "        qc_neigbor[n] = set(NET.neighbors(n))\n",
    "    else:\n",
    "        qc_neigbor[n] = set()\n",
    "\n",
    "ac_neigbor = {}\n",
    "for n in ac_id:\n",
    "    if n in NET.nodes():\n",
    "        ac_neigbor[n] = set(NET.neighbors(n))\n",
    "    else:\n",
    "        ac_neigbor[n] = set()\n",
    "\n",
    "linked_qc_nodes = set()\n",
    "extra_nodes = set()\n",
    "for ac_node in ac_id:\n",
    "    for qc_node in qc_id:\n",
    "        hop2_nodes = set(ac_neigbor[ac_node]) & set(qc_neigbor[qc_node]) \n",
    "        if hop2_nodes:\n",
    "            linked_qc_nodes.add(qc_node)\n",
    "            extra_nodes |= hop2_nodes\n",
    "\n",
    "all_graph_nodes = list(set(ac_id).union(extra_nodes, linked_qc_nodes))"
   ]
  },
  {
   "cell_type": "code",
   "execution_count": 30,
   "metadata": {},
   "outputs": [],
   "source": [
    "import itertools\n",
    "origin_nodes = set(ac_id) | set(qc_id)\n",
    "neibors = {}\n",
    "for n in origin_nodes:\n",
    "    if n in NET.nodes():\n",
    "        neibors[n] = set(NET.neighbors(n))\n",
    "    else:\n",
    "        neibors[n] = set()\n",
    "for a, b in itertools.combinations(origin_nodes, 2):\n",
    "    extra_nodes |= set(neibors[a]) & set(neibors[b]) \n",
    "extra_nodes = extra_nodes - origin_nodes"
   ]
  },
  {
   "cell_type": "code",
   "execution_count": 31,
   "metadata": {},
   "outputs": [],
   "source": [
    "extra_nodes = list(extra_nodes - set(all_graph_nodes))"
   ]
  },
  {
   "cell_type": "code",
   "execution_count": 35,
   "metadata": {},
   "outputs": [],
   "source": [
    "all_nodes = all_graph_nodes + extra_nodes"
   ]
  },
  {
   "cell_type": "code",
   "execution_count": 37,
   "metadata": {},
   "outputs": [],
   "source": [
    "unique_list = list(dict.fromkeys(all_nodes))"
   ]
  },
  {
   "cell_type": "code",
   "execution_count": 38,
   "metadata": {},
   "outputs": [
    {
     "data": {
      "text/plain": [
       "425"
      ]
     },
     "execution_count": 38,
     "metadata": {},
     "output_type": "execute_result"
    }
   ],
   "source": [
    "len(unique_list)"
   ]
  },
  {
   "cell_type": "code",
   "execution_count": 36,
   "metadata": {},
   "outputs": [
    {
     "data": {
      "text/plain": [
       "425"
      ]
     },
     "execution_count": 36,
     "metadata": {},
     "output_type": "execute_result"
    }
   ],
   "source": [
    "len(all_nodes)"
   ]
  },
  {
   "cell_type": "code",
   "execution_count": 34,
   "metadata": {},
   "outputs": [
    {
     "name": "stdout",
     "output_type": "stream",
     "text": [
      "[1, 2, 3, 3, 5, 6]\n"
     ]
    }
   ],
   "source": [
    "list1 = [1, 2, 3]\n",
    "list2 = [3, 5, 6]\n",
    "\n",
    "combined_list = list1 + list2\n",
    "print(combined_list)\n",
    "# 输出: [1, 2, 3, 4, 5, 6]\n"
   ]
  },
  {
   "cell_type": "code",
   "execution_count": null,
   "metadata": {},
   "outputs": [],
   "source": []
  },
  {
   "cell_type": "code",
   "execution_count": 78,
   "metadata": {},
   "outputs": [
    {
     "data": {
      "image/png": "[encoded data removed]",
      "text/plain": [
       "<Figure size 640x480 with 1 Axes>"
      ]
     },
     "metadata": {},
     "output_type": "display_data"
    }
   ],
   "source": [
    "import networkx as nx\n",
    "import matplotlib.pyplot as plt\n",
    "\n",
    "# 创建一个简单的无向图\n",
    "G = nx.Graph()\n",
    "\n",
    "# 添加节点\n",
    "G.add_nodes_from(all_graph_nodes)\n",
    "\n",
    "# 添加边\n",
    "G.add_edges_from(edges_list)\n",
    "\n",
    "# 绘制图形\n",
    "pos = nx.spring_layout(G)  # 选择一种布局算法，这里使用弹簧布局\n",
    "nx.draw(G, pos, with_labels=True, node_size=700, node_color='skyblue', font_size=10, font_color='black', font_weight='bold', edge_color='gray', linewidths=1, alpha=0.7)\n",
    "\n",
    "# 显示图形\n",
    "plt.show()\n"
   ]
  },
  {
   "cell_type": "code",
   "execution_count": 81,
   "metadata": {},
   "outputs": [
    {
     "data": {
      "text/plain": [
       "'Gentamicin'"
      ]
     },
     "execution_count": 81,
     "metadata": {},
     "output_type": "execute_result"
    }
   ],
   "source": [
    "concept2name[id2concept[248975]]"
   ]
  },
  {
   "cell_type": "code",
   "execution_count": 82,
   "metadata": {},
   "outputs": [
    {
     "data": {
      "text/plain": [
       "'Fever symptoms'"
      ]
     },
     "execution_count": 82,
     "metadata": {},
     "output_type": "execute_result"
    }
   ],
   "source": [
    "concept2name[id2concept[97365]]"
   ]
  },
  {
   "cell_type": "code",
   "execution_count": 83,
   "metadata": {},
   "outputs": [
    {
     "data": {
      "text/plain": [
       "'Septicemia'"
      ]
     },
     "execution_count": 83,
     "metadata": {},
     "output_type": "execute_result"
    }
   ],
   "source": [
    "concept2name[id2concept[8797]]"
   ]
  },
  {
   "cell_type": "code",
   "execution_count": 59,
   "metadata": {},
   "outputs": [],
   "source": [
    " #subgraph\n",
    "data_g = []\n",
    "with open('./data/medqa/subgraphed/dev.jsonl', 'r', encoding='utf-8') as file:\n",
    "    for line in file:\n",
    "        json_obj = json.loads(line)\n",
    "        data_g.append(json_obj)"
   ]
  },
  {
   "cell_type": "code",
   "execution_count": 64,
   "metadata": {},
   "outputs": [
    {
     "data": {
      "text/plain": [
       "5"
      ]
     },
     "execution_count": 64,
     "metadata": {},
     "output_type": "execute_result"
    }
   ],
   "source": [
    "len(data_g[0])"
   ]
  }
 ],
 "metadata": {
  "kernelspec": {
   "display_name": "base",
   "language": "python",
   "name": "python3"
  },
  "language_info": {
   "codemirror_mode": {
    "name": "ipython",
    "version": 3
   },
   "file_extension": ".py",
   "mimetype": "text/x-python",
   "name": "python",
   "nbconvert_exporter": "python",
   "pygments_lexer": "ipython3",
   "version": "3.11.5"
  }
 },
 "nbformat": 4,
 "nbformat_minor": 2
}
