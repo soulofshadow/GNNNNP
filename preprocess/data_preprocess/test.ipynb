{
 "cells": [
  {
   "cell_type": "markdown",
   "metadata": {},
   "source": [
    "## General"
   ]
  },
  {
   "cell_type": "code",
   "execution_count": 1,
   "metadata": {},
   "outputs": [],
   "source": [
    "import os\n",
    "import sys\n",
    "\n",
    "path = '/Users/soulofshadow/Downloads/Project'\n",
    "\n",
    "os.chdir(path)\n",
    "sys.path.append(path)"
   ]
  },
  {
   "cell_type": "code",
   "execution_count": 2,
   "metadata": {},
   "outputs": [],
   "source": [
    "import os\n",
    "import numpy as np\n",
    "import pandas as pd\n",
    "import json\n",
    "import random\n",
    "import copy\n",
    "import h5py\n",
    "from tqdm import tqdm"
   ]
  },
  {
   "cell_type": "markdown",
   "metadata": {},
   "source": [
    "## TEST 1"
   ]
  },
  {
   "cell_type": "code",
   "execution_count": 3,
   "metadata": {},
   "outputs": [
    {
     "name": "stderr",
     "output_type": "stream",
     "text": [
      "1212587it [00:07, 170703.76it/s]\n"
     ]
    },
    {
     "name": "stdout",
     "output_type": "stream",
     "text": [
      "ent count: 297556\n",
      "triplet count: 1168881\n"
     ]
    }
   ],
   "source": [
    "from utils.load_umls import UMLS\n",
    "triplet_path = 'data/triplets.txt'\n",
    "triplets = UMLS(triplet_path).get_triplets_as_list()"
   ]
  },
  {
   "cell_type": "code",
   "execution_count": 10,
   "metadata": {},
   "outputs": [],
   "source": [
    "df = pd.DataFrame(columns=['Head', 'Relation', 'Tail'], data=triplets)"
   ]
  },
  {
   "cell_type": "code",
   "execution_count": 11,
   "metadata": {},
   "outputs": [
    {
     "data": {
      "text/html": [
       "<div>\n",
       "<style scoped>\n",
       "    .dataframe tbody tr th:only-of-type {\n",
       "        vertical-align: middle;\n",
       "    }\n",
       "\n",
       "    .dataframe tbody tr th {\n",
       "        vertical-align: top;\n",
       "    }\n",
       "\n",
       "    .dataframe thead th {\n",
       "        text-align: right;\n",
       "    }\n",
       "</style>\n",
       "<table border=\"1\" class=\"dataframe\">\n",
       "  <thead>\n",
       "    <tr style=\"text-align: right;\">\n",
       "      <th></th>\n",
       "      <th>Head</th>\n",
       "      <th>Relation</th>\n",
       "      <th>Tail</th>\n",
       "    </tr>\n",
       "  </thead>\n",
       "  <tbody>\n",
       "    <tr>\n",
       "      <th>0</th>\n",
       "      <td>Chronic serous inflammation</td>\n",
       "      <td>isa</td>\n",
       "      <td>Chronic inflammation</td>\n",
       "    </tr>\n",
       "    <tr>\n",
       "      <th>1</th>\n",
       "      <td>Core needle biopsy of breast using palpation g...</td>\n",
       "      <td>uses_device</td>\n",
       "      <td>Core biopsy needle</td>\n",
       "    </tr>\n",
       "    <tr>\n",
       "      <th>2</th>\n",
       "      <td>Monitoring - action</td>\n",
       "      <td>method_of</td>\n",
       "      <td>Neurological disorder monitoring</td>\n",
       "    </tr>\n",
       "    <tr>\n",
       "      <th>3</th>\n",
       "      <td>Immunodeficiency disorder</td>\n",
       "      <td>may_cause</td>\n",
       "      <td>Melphalan hydrochloride</td>\n",
       "    </tr>\n",
       "    <tr>\n",
       "      <th>4</th>\n",
       "      <td>Obstructive nephropathy due to malignancy</td>\n",
       "      <td>isa</td>\n",
       "      <td>Obstructive nephropathy</td>\n",
       "    </tr>\n",
       "    <tr>\n",
       "      <th>...</th>\n",
       "      <td>...</td>\n",
       "      <td>...</td>\n",
       "      <td>...</td>\n",
       "    </tr>\n",
       "    <tr>\n",
       "      <th>1168876</th>\n",
       "      <td>Sacroiliac joint stability</td>\n",
       "      <td>isa</td>\n",
       "      <td>Stability of joint structure of pelvic girdle</td>\n",
       "    </tr>\n",
       "    <tr>\n",
       "      <th>1168877</th>\n",
       "      <td>Sensorineural hearing loss</td>\n",
       "      <td>may_cause</td>\n",
       "      <td>Leptomeningitis</td>\n",
       "    </tr>\n",
       "    <tr>\n",
       "      <th>1168878</th>\n",
       "      <td>Itching</td>\n",
       "      <td>may_cause</td>\n",
       "      <td>herpesvirus 1, human</td>\n",
       "    </tr>\n",
       "    <tr>\n",
       "      <th>1168879</th>\n",
       "      <td>MOVED TO</td>\n",
       "      <td>isa</td>\n",
       "      <td>Concept history attribute</td>\n",
       "    </tr>\n",
       "    <tr>\n",
       "      <th>1168880</th>\n",
       "      <td>Skin structure</td>\n",
       "      <td>finding_site_of</td>\n",
       "      <td>Port-wine stain associated with spinal dysraphism</td>\n",
       "    </tr>\n",
       "  </tbody>\n",
       "</table>\n",
       "<p>1168881 rows × 3 columns</p>\n",
       "</div>"
      ],
      "text/plain": [
       "                                                      Head         Relation  \\\n",
       "0                              Chronic serous inflammation              isa   \n",
       "1        Core needle biopsy of breast using palpation g...      uses_device   \n",
       "2                                      Monitoring - action        method_of   \n",
       "3                                Immunodeficiency disorder        may_cause   \n",
       "4                Obstructive nephropathy due to malignancy              isa   \n",
       "...                                                    ...              ...   \n",
       "1168876                         Sacroiliac joint stability              isa   \n",
       "1168877                         Sensorineural hearing loss        may_cause   \n",
       "1168878                                            Itching        may_cause   \n",
       "1168879                                           MOVED TO              isa   \n",
       "1168880                                     Skin structure  finding_site_of   \n",
       "\n",
       "                                                      Tail  \n",
       "0                                     Chronic inflammation  \n",
       "1                                       Core biopsy needle  \n",
       "2                         Neurological disorder monitoring  \n",
       "3                                  Melphalan hydrochloride  \n",
       "4                                  Obstructive nephropathy  \n",
       "...                                                    ...  \n",
       "1168876      Stability of joint structure of pelvic girdle  \n",
       "1168877                                    Leptomeningitis  \n",
       "1168878                               herpesvirus 1, human  \n",
       "1168879                          Concept history attribute  \n",
       "1168880  Port-wine stain associated with spinal dysraphism  \n",
       "\n",
       "[1168881 rows x 3 columns]"
      ]
     },
     "execution_count": 11,
     "metadata": {},
     "output_type": "execute_result"
    }
   ],
   "source": [
    "df"
   ]
  },
  {
   "cell_type": "code",
   "execution_count": 13,
   "metadata": {},
   "outputs": [],
   "source": [
    "groupCUI = df.groupby('Head')"
   ]
  },
  {
   "cell_type": "code",
   "execution_count": 30,
   "metadata": {},
   "outputs": [
    {
     "name": "stderr",
     "output_type": "stream",
     "text": [
      "1212587it [00:05, 212992.47it/s]\n"
     ]
    },
    {
     "name": "stdout",
     "output_type": "stream",
     "text": [
      "ent count: 297556\n",
      "triplet count: 1168881\n"
     ]
    }
   ],
   "source": [
    "dataset = UMLS(triplet_path)\n",
    "triplets = dataset.get_triplets_as_list()"
   ]
  },
  {
   "cell_type": "code",
   "execution_count": null,
   "metadata": {},
   "outputs": [],
   "source": [
    "sentences = {}\n",
    "for entity in tqdm(dataset.ents):\n",
    "    serilazied = [x for x in triplets if x[0] == entity]\n",
    "    sentence = \"\"\n",
    "    temp = 0\n",
    "    for triplet in serilazied:\n",
    "        if temp == 0:\n",
    "            sentence = ' '.join(triplet)\n",
    "            temp = 1\n",
    "        else:\n",
    "            sentence += ', '\n",
    "            sentence += ' '.join(triplet[1:])\n",
    "    sentences[entity] = sentence"
   ]
  },
  {
   "cell_type": "code",
   "execution_count": 27,
   "metadata": {},
   "outputs": [
    {
     "name": "stdout",
     "output_type": "stream",
     "text": [
      "\"\"\"Call\"\" - postponed\"\n",
      "                          Head Relation                 Tail\n",
      "337860  \"\"\"Call\"\" - postponed\"      isa  Patient call status\n"
     ]
    }
   ],
   "source": [
    "for name,group in groupCUI:\n",
    "    print(name)\n",
    "    print(group)\n",
    "    break"
   ]
  },
  {
   "cell_type": "code",
   "execution_count": 67,
   "metadata": {},
   "outputs": [],
   "source": [
    "import ast\n",
    "dataset = pd.read_csv('data/aligned_dataset.csv', converters={\"triplets\": ast.literal_eval})\n"
   ]
  },
  {
   "cell_type": "code",
   "execution_count": 71,
   "metadata": {},
   "outputs": [],
   "source": [
    "dataset = dataset.dropna()"
   ]
  },
  {
   "cell_type": "code",
   "execution_count": 74,
   "metadata": {},
   "outputs": [
    {
     "data": {
      "text/html": [
       "<div>\n",
       "<style scoped>\n",
       "    .dataframe tbody tr th:only-of-type {\n",
       "        vertical-align: middle;\n",
       "    }\n",
       "\n",
       "    .dataframe tbody tr th {\n",
       "        vertical-align: top;\n",
       "    }\n",
       "\n",
       "    .dataframe thead th {\n",
       "        text-align: right;\n",
       "    }\n",
       "</style>\n",
       "<table border=\"1\" class=\"dataframe\">\n",
       "  <thead>\n",
       "    <tr style=\"text-align: right;\">\n",
       "      <th></th>\n",
       "      <th>Unnamed: 0</th>\n",
       "      <th>text</th>\n",
       "      <th>entity</th>\n",
       "      <th>triplet</th>\n",
       "      <th>serialized_triples</th>\n",
       "    </tr>\n",
       "  </thead>\n",
       "  <tbody>\n",
       "    <tr>\n",
       "      <th>0</th>\n",
       "      <td>0</td>\n",
       "      <td>The hepatic ultrastructural aspect and the hep...</td>\n",
       "      <td>[{'cui': 'C0041623', 'name': 'Ultrastructure',...</td>\n",
       "      <td>[['Anemia, Hemolytic', 'isa', 'Chronic hemolyt...</td>\n",
       "      <td>Anemia, Hemolytic isa Chronic hemolytic anemia...</td>\n",
       "    </tr>\n",
       "    <tr>\n",
       "      <th>2</th>\n",
       "      <td>2</td>\n",
       "      <td>Effects of a 24 hour fast were studied in 21 o...</td>\n",
       "      <td>[{'cui': 'C0028754', 'name': 'Obesity', 'type'...</td>\n",
       "      <td>[['Insulin', 'has_structural_class', 'Insulin ...</td>\n",
       "      <td>Glucagon form_of glucagon (rDNA) Gluconeogenes...</td>\n",
       "    </tr>\n",
       "    <tr>\n",
       "      <th>3</th>\n",
       "      <td>3</td>\n",
       "      <td>The present study has been undertaken to elici...</td>\n",
       "      <td>[{'cui': 'C0342895', 'name': 'Fish-Eye Disease...</td>\n",
       "      <td>[['Calcium', 'parent_of', 'Calcium [EPC]'], ['...</td>\n",
       "      <td>Binding Proteins isa Calcium-Binding Proteins ...</td>\n",
       "    </tr>\n",
       "    <tr>\n",
       "      <th>4</th>\n",
       "      <td>4</td>\n",
       "      <td>Selected androgenic and nonandrogenic steroids...</td>\n",
       "      <td>[{'cui': 'C0002844', 'name': 'Androgens', 'typ...</td>\n",
       "      <td>[['Androgens', 'isa', 'Etiocholanolone'], ['An...</td>\n",
       "      <td>Agent isa Protocol Agent isa Metabolite Androg...</td>\n",
       "    </tr>\n",
       "    <tr>\n",
       "      <th>5</th>\n",
       "      <td>5</td>\n",
       "      <td>Tuberculosi remains a serious public health pr...</td>\n",
       "      <td>[{'cui': 'C1704338', 'name': 'diagnosis aspect...</td>\n",
       "      <td>[['Togo', 'inverse_isa', 'Country'], ['BCG Vac...</td>\n",
       "      <td>Antineoplastic Agents mapped_to Chemotherapy B...</td>\n",
       "    </tr>\n",
       "    <tr>\n",
       "      <th>...</th>\n",
       "      <td>...</td>\n",
       "      <td>...</td>\n",
       "      <td>...</td>\n",
       "      <td>...</td>\n",
       "      <td>...</td>\n",
       "    </tr>\n",
       "    <tr>\n",
       "      <th>49995</th>\n",
       "      <td>49995</td>\n",
       "      <td>Tissue fragments of fresh biopsy specimens fro...</td>\n",
       "      <td>[{'cui': 'C0065827', 'name': 'Measles Virus Nu...</td>\n",
       "      <td>[['Cell Count', 'measured_by', 'Cells'], ['Cel...</td>\n",
       "      <td>Cell Count measured_by Cells Cells measures Ce...</td>\n",
       "    </tr>\n",
       "    <tr>\n",
       "      <th>49996</th>\n",
       "      <td>49996</td>\n",
       "      <td>Long-term (48-hr) incubations of either the fi...</td>\n",
       "      <td>[{'cui': 'C0002335', 'name': 'Alprostadil', 't...</td>\n",
       "      <td>[['Cell Count', 'measured_by', 'Cells'], ['Wis...</td>\n",
       "      <td>Cell Count measured_by Cells Cell Death is_loc...</td>\n",
       "    </tr>\n",
       "    <tr>\n",
       "      <th>49997</th>\n",
       "      <td>49997</td>\n",
       "      <td>Pretreatment of mice intraperitoneally with si...</td>\n",
       "      <td>[{'cui': 'C0019351', 'name': 'Human Herpesviru...</td>\n",
       "      <td>[['Mus', 'mapped_to', 'House mice'], ['Vagina'...</td>\n",
       "      <td>Agent isa Protocol Agent Drug Administration R...</td>\n",
       "    </tr>\n",
       "    <tr>\n",
       "      <th>49998</th>\n",
       "      <td>49998</td>\n",
       "      <td>After nude-mouse-passage, a carcinoma of the n...</td>\n",
       "      <td>[{'cui': 'C0086418', 'name': 'Homo sapiens', '...</td>\n",
       "      <td>[['Nasopharyngeal carcinoma', 'is_abnormal_cel...</td>\n",
       "      <td>Agent isa Protocol Agent Nasopharyngeal carcin...</td>\n",
       "    </tr>\n",
       "    <tr>\n",
       "      <th>49999</th>\n",
       "      <td>49999</td>\n",
       "      <td>A case of malignant fibrous histiocytoma of th...</td>\n",
       "      <td>[{'cui': 'C0334463', 'name': 'Malignant Fibrou...</td>\n",
       "      <td>[['Neoplasms', 'mapped_to', 'Chemotherapy'], [...</td>\n",
       "      <td>Characteristics isa With intensity Chemotherap...</td>\n",
       "    </tr>\n",
       "  </tbody>\n",
       "</table>\n",
       "<p>46348 rows × 5 columns</p>\n",
       "</div>"
      ],
      "text/plain": [
       "       Unnamed: 0                                               text  \\\n",
       "0               0  The hepatic ultrastructural aspect and the hep...   \n",
       "2               2  Effects of a 24 hour fast were studied in 21 o...   \n",
       "3               3  The present study has been undertaken to elici...   \n",
       "4               4  Selected androgenic and nonandrogenic steroids...   \n",
       "5               5  Tuberculosi remains a serious public health pr...   \n",
       "...           ...                                                ...   \n",
       "49995       49995  Tissue fragments of fresh biopsy specimens fro...   \n",
       "49996       49996  Long-term (48-hr) incubations of either the fi...   \n",
       "49997       49997  Pretreatment of mice intraperitoneally with si...   \n",
       "49998       49998  After nude-mouse-passage, a carcinoma of the n...   \n",
       "49999       49999  A case of malignant fibrous histiocytoma of th...   \n",
       "\n",
       "                                                  entity  \\\n",
       "0      [{'cui': 'C0041623', 'name': 'Ultrastructure',...   \n",
       "2      [{'cui': 'C0028754', 'name': 'Obesity', 'type'...   \n",
       "3      [{'cui': 'C0342895', 'name': 'Fish-Eye Disease...   \n",
       "4      [{'cui': 'C0002844', 'name': 'Androgens', 'typ...   \n",
       "5      [{'cui': 'C1704338', 'name': 'diagnosis aspect...   \n",
       "...                                                  ...   \n",
       "49995  [{'cui': 'C0065827', 'name': 'Measles Virus Nu...   \n",
       "49996  [{'cui': 'C0002335', 'name': 'Alprostadil', 't...   \n",
       "49997  [{'cui': 'C0019351', 'name': 'Human Herpesviru...   \n",
       "49998  [{'cui': 'C0086418', 'name': 'Homo sapiens', '...   \n",
       "49999  [{'cui': 'C0334463', 'name': 'Malignant Fibrou...   \n",
       "\n",
       "                                                 triplet  \\\n",
       "0      [['Anemia, Hemolytic', 'isa', 'Chronic hemolyt...   \n",
       "2      [['Insulin', 'has_structural_class', 'Insulin ...   \n",
       "3      [['Calcium', 'parent_of', 'Calcium [EPC]'], ['...   \n",
       "4      [['Androgens', 'isa', 'Etiocholanolone'], ['An...   \n",
       "5      [['Togo', 'inverse_isa', 'Country'], ['BCG Vac...   \n",
       "...                                                  ...   \n",
       "49995  [['Cell Count', 'measured_by', 'Cells'], ['Cel...   \n",
       "49996  [['Cell Count', 'measured_by', 'Cells'], ['Wis...   \n",
       "49997  [['Mus', 'mapped_to', 'House mice'], ['Vagina'...   \n",
       "49998  [['Nasopharyngeal carcinoma', 'is_abnormal_cel...   \n",
       "49999  [['Neoplasms', 'mapped_to', 'Chemotherapy'], [...   \n",
       "\n",
       "                                      serialized_triples  \n",
       "0      Anemia, Hemolytic isa Chronic hemolytic anemia...  \n",
       "2      Glucagon form_of glucagon (rDNA) Gluconeogenes...  \n",
       "3      Binding Proteins isa Calcium-Binding Proteins ...  \n",
       "4      Agent isa Protocol Agent isa Metabolite Androg...  \n",
       "5      Antineoplastic Agents mapped_to Chemotherapy B...  \n",
       "...                                                  ...  \n",
       "49995  Cell Count measured_by Cells Cells measures Ce...  \n",
       "49996  Cell Count measured_by Cells Cell Death is_loc...  \n",
       "49997  Agent isa Protocol Agent Drug Administration R...  \n",
       "49998  Agent isa Protocol Agent Nasopharyngeal carcin...  \n",
       "49999  Characteristics isa With intensity Chemotherap...  \n",
       "\n",
       "[46348 rows x 5 columns]"
      ]
     },
     "execution_count": 74,
     "metadata": {},
     "output_type": "execute_result"
    }
   ],
   "source": [
    "dataset"
   ]
  },
  {
   "cell_type": "code",
   "execution_count": 80,
   "metadata": {},
   "outputs": [],
   "source": [
    "#Entity Subgraph\n",
    "\n",
    "all_triple_sets = []\n",
    "rel_pairs = {}\n",
    "z_entities = []\n",
    "z_triplets = []\n",
    "depth = 5"
   ]
  },
  {
   "cell_type": "code",
   "execution_count": 81,
   "metadata": {},
   "outputs": [],
   "source": [
    "def get_rel_from_triplet(triplet):\n",
    "    if len(triplet) == 4:\n",
    "        return triplet[2]\n",
    "    else:\n",
    "        return triplet[1]"
   ]
  },
  {
   "cell_type": "code",
   "execution_count": 85,
   "metadata": {},
   "outputs": [
    {
     "name": "stdout",
     "output_type": "stream",
     "text": [
      "[['Anemia, Hemolytic', 'isa', 'Chronic hemolytic anemia'], ['Hepatic', 'see_from', 'Liver'], ['Chronic hemolytic anemia', 'inverse_isa', 'Anemia, Hemolytic'], ['Study Subject', 'isa', 'Human Study Subject'], ['Study Subject', 'inverse_isa', 'Investigative Subject'], ['Liver', 'see', 'Hepatic'], ['Human Study Subject', 'inverse_isa', 'Study Subject'], ['Investigative Subject', 'isa', 'Study Subject'], ['Investigative Subject', 'inverse_isa', 'Subject - topic'], ['Subject - topic', 'isa', 'Investigative Subject']]\n",
      "[\n"
     ]
    }
   ],
   "source": [
    "for triplet in dataset['triplet']:\n",
    "    print(triplet)\n",
    "    print(triplet[0])\n",
    "    break"
   ]
  },
  {
   "cell_type": "code",
   "execution_count": 83,
   "metadata": {},
   "outputs": [
    {
     "data": {
      "text/plain": [
       "1"
      ]
     },
     "execution_count": 83,
     "metadata": {},
     "output_type": "execute_result"
    }
   ],
   "source": [
    "len(dataset['triplet'][0][0])"
   ]
  },
  {
   "cell_type": "code",
   "execution_count": 77,
   "metadata": {},
   "outputs": [
    {
     "ename": "IndexError",
     "evalue": "string index out of range",
     "output_type": "error",
     "traceback": [
      "\u001b[0;31m---------------------------------------------------------------------------\u001b[0m",
      "\u001b[0;31mIndexError\u001b[0m                                Traceback (most recent call last)",
      "\u001b[0;32m/var/folders/s7/t38f3vld1vs5ryxcmmgs3kh40000gn/T/ipykernel_8401/520463640.py\u001b[0m in \u001b[0;36m<module>\u001b[0;34m\u001b[0m\n\u001b[1;32m      9\u001b[0m         \u001b[0mtriplets\u001b[0m\u001b[0;34m.\u001b[0m\u001b[0mappend\u001b[0m\u001b[0;34m(\u001b[0m\u001b[0mtriplet\u001b[0m\u001b[0;34m[\u001b[0m\u001b[0mi\u001b[0m\u001b[0;34m]\u001b[0m\u001b[0;34m)\u001b[0m\u001b[0;34m\u001b[0m\u001b[0;34m\u001b[0m\u001b[0m\n\u001b[1;32m     10\u001b[0m         \u001b[0mentities\u001b[0m\u001b[0;34m.\u001b[0m\u001b[0mappend\u001b[0m\u001b[0;34m(\u001b[0m\u001b[0mtriplet\u001b[0m\u001b[0;34m[\u001b[0m\u001b[0mi\u001b[0m\u001b[0;34m]\u001b[0m\u001b[0;34m[\u001b[0m\u001b[0;36m0\u001b[0m\u001b[0;34m]\u001b[0m\u001b[0;34m)\u001b[0m\u001b[0;34m\u001b[0m\u001b[0;34m\u001b[0m\u001b[0m\n\u001b[0;32m---> 11\u001b[0;31m         \u001b[0mrels\u001b[0m\u001b[0;34m.\u001b[0m\u001b[0mappend\u001b[0m\u001b[0;34m(\u001b[0m\u001b[0mget_rel_from_triplet\u001b[0m\u001b[0;34m(\u001b[0m\u001b[0mtriplet\u001b[0m\u001b[0;34m[\u001b[0m\u001b[0mi\u001b[0m\u001b[0;34m]\u001b[0m\u001b[0;34m)\u001b[0m\u001b[0;34m)\u001b[0m\u001b[0;34m\u001b[0m\u001b[0;34m\u001b[0m\u001b[0m\n\u001b[0m\u001b[1;32m     12\u001b[0m \u001b[0;34m\u001b[0m\u001b[0m\n\u001b[1;32m     13\u001b[0m     \u001b[0;32mfor\u001b[0m \u001b[0mi\u001b[0m \u001b[0;32min\u001b[0m \u001b[0mrange\u001b[0m\u001b[0;34m(\u001b[0m\u001b[0mlen\u001b[0m\u001b[0;34m(\u001b[0m\u001b[0mrels\u001b[0m\u001b[0;34m)\u001b[0m\u001b[0;34m)\u001b[0m\u001b[0;34m:\u001b[0m\u001b[0;34m\u001b[0m\u001b[0;34m\u001b[0m\u001b[0m\n",
      "\u001b[0;32m/var/folders/s7/t38f3vld1vs5ryxcmmgs3kh40000gn/T/ipykernel_8401/885365411.py\u001b[0m in \u001b[0;36mget_rel_from_triplet\u001b[0;34m(triplet)\u001b[0m\n\u001b[1;32m      3\u001b[0m         \u001b[0;32mreturn\u001b[0m \u001b[0mtriplet\u001b[0m\u001b[0;34m[\u001b[0m\u001b[0;36m2\u001b[0m\u001b[0;34m]\u001b[0m\u001b[0;34m\u001b[0m\u001b[0;34m\u001b[0m\u001b[0m\n\u001b[1;32m      4\u001b[0m     \u001b[0;32melse\u001b[0m\u001b[0;34m:\u001b[0m\u001b[0;34m\u001b[0m\u001b[0;34m\u001b[0m\u001b[0m\n\u001b[0;32m----> 5\u001b[0;31m         \u001b[0;32mreturn\u001b[0m \u001b[0mtriplet\u001b[0m\u001b[0;34m[\u001b[0m\u001b[0;36m1\u001b[0m\u001b[0;34m]\u001b[0m\u001b[0;34m\u001b[0m\u001b[0;34m\u001b[0m\u001b[0m\n\u001b[0m",
      "\u001b[0;31mIndexError\u001b[0m: string index out of range"
     ]
    }
   ],
   "source": [
    "for triplets in dataset['triplet']:\n",
    "    if len(triplets) == 1:\n",
    "        z_entities.append(triplets[0][0])\n",
    "        z_triplets.append(triplets[0])\n",
    "        continue\n",
    "    \n",
    "    rels = []\n",
    "    for i in range(len(triplets)):\n",
    "        z_triplets.append(triplets[i])\n",
    "        z_entities.append(triplets[i][0])\n",
    "        rels.append(get_rel_from_triplet(triplets[i]))\n",
    "\n",
    "    for i in range(len(rels)):\n",
    "        rel_i = rels[i]\n",
    "        if i == len(rels) - 1:\n",
    "            break;\n",
    "        for j in range(i+1, len(rels)):\n",
    "            rel_j = rels[j]\n",
    "            if (rel_i, rel_j) in rel_pairs.keys() or (rel_j, rel_i) in rel_pairs.keys():\n",
    "                if (rel_i, rel_j) in rel_pairs.keys():\n",
    "                    rel_pairs[(rel_i, rel_j)] += 1\n",
    "                else:\n",
    "                    rel_pairs[(rel_j, rel_i)] += 1\n",
    "            else:\n",
    "                rel_pairs[(rel_i, rel_j)] = 1\n"
   ]
  },
  {
   "cell_type": "code",
   "execution_count": null,
   "metadata": {},
   "outputs": [],
   "source": []
  },
  {
   "cell_type": "markdown",
   "metadata": {},
   "source": [
    "## TEST 2"
   ]
  },
  {
   "cell_type": "code",
   "execution_count": 3,
   "metadata": {},
   "outputs": [],
   "source": [
    "from sklearn.cluster import Birch\n",
    "from sklearn.metrics import silhouette_score\n",
    "from sklearn.preprocessing import StandardScaler"
   ]
  },
  {
   "cell_type": "code",
   "execution_count": null,
   "metadata": {},
   "outputs": [],
   "source": [
    "# %% [code]\n",
    "hdf5_file = 'coder_embed_entity.h5'\n",
    "with h5py.File(hdf5_file, 'w') as hf:\n",
    "    hf.create_dataset('entity', data=dataset['entity'].to_numpy())\n",
    "    hf.create_dataset('embedding', data=np.array(dataset['embedding'].tolist(), dtype=np.float64))\n"
   ]
  },
  {
   "cell_type": "code",
   "execution_count": 7,
   "metadata": {},
   "outputs": [],
   "source": [
    "hdf5_file = 'data/coder_embed_entity.h5'\n",
    "with h5py.File(hdf5_file, 'r') as hf:\n",
    "    # 读取数据集内容\n",
    "    strings_data = hf['entity'][:]\n",
    "    arrays_data = hf['embedding'][:]"
   ]
  },
  {
   "cell_type": "code",
   "execution_count": 8,
   "metadata": {},
   "outputs": [],
   "source": [
    "scaler = StandardScaler()\n",
    "scaled_data = scaler.fit_transform(arrays_data)"
   ]
  },
  {
   "cell_type": "code",
   "execution_count": 10,
   "metadata": {},
   "outputs": [],
   "source": [
    "# 使用 BIRCH 进行聚类\n",
    "branching_factor = 50  # 设置BIRCH的branching factor\n",
    "threshold = 0.5  # 设置BIRCH的阈值\n",
    "birch = Birch(branching_factor=branching_factor, threshold=threshold)\n",
    "cluster_labels = birch.fit_predict(scaled_data)"
   ]
  },
  {
   "cell_type": "code",
   "execution_count": null,
   "metadata": {},
   "outputs": [],
   "source": []
  },
  {
   "cell_type": "markdown",
   "metadata": {},
   "source": [
    "## TEST 3"
   ]
  },
  {
   "cell_type": "code",
   "execution_count": 4,
   "metadata": {},
   "outputs": [],
   "source": [
    "import faiss"
   ]
  },
  {
   "cell_type": "code",
   "execution_count": 6,
   "metadata": {},
   "outputs": [],
   "source": [
    "ncentroids = 100\n",
    "niter = 10\n",
    "d = arrays_data.shape[1]\n",
    "\n",
    "kmeans = faiss.Kmeans(d, ncentroids, niter=niter)"
   ]
  },
  {
   "cell_type": "code",
   "execution_count": 7,
   "metadata": {},
   "outputs": [
    {
     "ename": "",
     "evalue": "",
     "output_type": "error",
     "traceback": [
      "\u001b[1;31m无法执行代码，已释放会话。请尝试重新启动内核。"
     ]
    },
    {
     "ename": "",
     "evalue": "",
     "output_type": "error",
     "traceback": [
      "\u001b[1;31m在当前单元格或上一个单元格中执行代码时 Kernel 崩溃。请查看单元格中的代码，以确定故障的可能原因。有关详细信息，请单击 <a href='https://aka.ms/vscodeJupyterKernelCrash'>此处</a>。有关更多详细信息，请查看 Jupyter <a href='command:jupyter.viewOutput'>log</a>。"
     ]
    }
   ],
   "source": [
    "kmeans.train(arrays_data[:1000])"
   ]
  },
  {
   "cell_type": "markdown",
   "metadata": {},
   "source": [
    "## s"
   ]
  },
  {
   "cell_type": "code",
   "execution_count": 4,
   "metadata": {},
   "outputs": [
    {
     "name": "stderr",
     "output_type": "stream",
     "text": [
      "8751471it [03:49, 38139.89it/s] \n"
     ]
    },
    {
     "name": "stdout",
     "output_type": "stream",
     "text": [
      "cui count: 3695485\n",
      "str2cui count: 13396819\n",
      "MRCONSO count: 6131827\n"
     ]
    },
    {
     "name": "stderr",
     "output_type": "stream",
     "text": [
      "25369590it [04:12, 100377.82it/s]\n"
     ]
    },
    {
     "name": "stdout",
     "output_type": "stream",
     "text": [
      "rel count: 18702888\n"
     ]
    },
    {
     "name": "stderr",
     "output_type": "stream",
     "text": [
      "4010842it [01:24, 47198.50it/s] \n"
     ]
    },
    {
     "name": "stdout",
     "output_type": "stream",
     "text": [
      "sty count: 3695485\n"
     ]
    }
   ],
   "source": [
    "from utils.load_umls import UMLS\n",
    "umls = UMLS(path + '/data/build_tri')"
   ]
  }
 ],
 "metadata": {
  "kernelspec": {
   "display_name": "base",
   "language": "python",
   "name": "python3"
  },
  "language_info": {
   "codemirror_mode": {
    "name": "ipython",
    "version": 3
   },
   "file_extension": ".py",
   "mimetype": "text/x-python",
   "name": "python",
   "nbconvert_exporter": "python",
   "pygments_lexer": "ipython3",
   "version": "3.9.13"
  },
  "orig_nbformat": 4
 },
 "nbformat": 4,
 "nbformat_minor": 2
}
